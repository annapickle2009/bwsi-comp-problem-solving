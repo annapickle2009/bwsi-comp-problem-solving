{
 "cells": [
  {
   "cell_type": "code",
   "execution_count": 58,
   "id": "e7634dab-27f1-4a07-93cc-20daf676908f",
   "metadata": {},
   "outputs": [],
   "source": [
    "def isPalindrome(inputStr):\n",
    "    start = 0\n",
    "    end = len(inputStr) - 1\n",
    "\n",
    "    while start < end:\n",
    "        if inputStr[start] != inputStr[end]:\n",
    "            return False\n",
    "        else:\n",
    "            start += 1\n",
    "            end -= 1\n",
    "    return True\n",
    "    \n",
    "def longest_palindrome(inputStr):\n",
    "    palindromes = []\n",
    "    n = len(inputStr)\n",
    "    \n",
    "    for i in range(n):\n",
    "        for j in range(i + 1, n):\n",
    "            if isPalindrome(inputStr[i: j + 1]):\n",
    "                palindromes.append(inputStr[i: j + 1])\n",
    "    return max(palindromes, key=len)"
   ]
  },
  {
   "cell_type": "raw",
   "id": "9922df79-1665-49f5-bc5d-c511d5aa0a87",
   "metadata": {},
   "source": []
  },
  {
   "cell_type": "code",
   "execution_count": null,
   "id": "aa855f96-4a01-4fa9-b79f-bb45e68c133d",
   "metadata": {},
   "outputs": [],
   "source": []
  }
 ],
 "metadata": {
  "kernelspec": {
   "display_name": "Python [conda env:base] *",
   "language": "python",
   "name": "conda-base-py"
  },
  "language_info": {
   "codemirror_mode": {
    "name": "ipython",
    "version": 3
   },
   "file_extension": ".py",
   "mimetype": "text/x-python",
   "name": "python",
   "nbconvert_exporter": "python",
   "pygments_lexer": "ipython3",
   "version": "3.12.7"
  }
 },
 "nbformat": 4,
 "nbformat_minor": 5
}
